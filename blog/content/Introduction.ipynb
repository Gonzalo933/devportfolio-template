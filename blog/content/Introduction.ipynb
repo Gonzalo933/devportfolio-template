{
 "cells": [
  {
   "cell_type": "markdown",
   "metadata": {},
   "source": [
    "I always found machine learning as the black magic of the computer science world, with all those neural networks that nobody could explain me easily or those videos or machines doing crazy things like [creating front-end code from an image](https://www.youtube.com/watch?v=pqKeXkhFA3I&feature=youtu.be).\n",
    "\n",
    "As seeing that it was interesting and most important it is the future I decided to start researching about it, but no like the people that just download a framework (and there is a lot of [good ones](https://www.youtube.com/watch?v=pqKeXkhFA3I&feature=youtu.be)!), I wanted to go deeper (machine learning pun intended), I wanted to be able to code and understand the algorithms and not using them as a black box, I wanted to be able to adapt them to the problems I wanted to solve. And how strange is life that just a few weeks after starting with it I received a chance to work at  the [machine learning group](http://arantxa.ii.uam.es/~gaa/index.html) at Universidad Autónoma de Madrid.\n",
    "\n",
    "I created the blog more like a journal. I'm learning a lot, but a lot is too much to memorize everything, right now I'm studying some machine learning books, like Bishop's Pattern Recognition and Machine Learning or Duda & Hart book, and I'm not only trying to understand the algorithms and the mathematics behind, but I'm also implementing them and I would like to share some of my implementations on this blog. My research field is Gaussian Processes so expect a few more posts about that topic.\n",
    "\n",
    "I hope I can make the posts light and easy, but there is always room for improvements!\n",
    "\n",
    "<a id='notation'></a>\n",
    "## Notation\n",
    "Last I will like to explain some of the notation that I'm going to use in the blog (I will be updating this part as I add more posts):\n",
    "\n",
    "- All vectorial variables are written in bold ex: $ \\mathbf{x} , \\mathbf{y} $.\n",
    "\n",
    "- All vectors are always column vectors (unless otherwise stated) so a $ x $ vector of size $ N $ would be written as: \n",
    "\n",
    "  $\\mathbf{x} = \\begin{bmatrix}  x_1 \\\\ x_2 \\\\ \\vdots\\\\ x_n \\end{bmatrix} $  or $ \\mathbf{x} = \\begin{bmatrix}  x_1, \\ x_2,\\ \\dots, \\ x_n \\end{bmatrix}^T $\n",
    "\n",
    "- Matrices are written both in bold and uppercase, ex: $ \\mathbf{X},  \\mathbf{Y} $\n",
    "\n",
    "  so if the size of $ \\mathbf{X} $ is $N\\times D$: \n",
    "\n",
    "   $  \\mathbf{X} = \\begin{bmatrix}    x_{11} & \\dots  & x_{1d} \\\\    x_{21} & \\dots  & x_{2d} \\\\    \\vdots & \\ddots & \\vdots \\\\    x_{n1} & \\dots  & x_{nd}\\end{bmatrix} $\n",
    "\n",
    "\n",
    "\n"
   ]
  }
 ],
 "metadata": {
  "kernelspec": {
   "display_name": "Python 3",
   "language": "python",
   "name": "python3"
  },
  "language_info": {
   "codemirror_mode": {
    "name": "ipython",
    "version": 3
   },
   "file_extension": ".py",
   "mimetype": "text/x-python",
   "name": "python",
   "nbconvert_exporter": "python",
   "pygments_lexer": "ipython3",
   "version": "3.6.0"
  }
 },
 "nbformat": 4,
 "nbformat_minor": 2
}
